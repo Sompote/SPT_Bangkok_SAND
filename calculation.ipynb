{
  "nbformat": 4,
  "nbformat_minor": 0,
  "metadata": {
    "colab": {
      "provenance": [],
      "authorship_tag": "ABX9TyMVg0VUARGohJUpehVmmVUc",
      "include_colab_link": true
    },
    "kernelspec": {
      "name": "python3",
      "display_name": "Python 3"
    },
    "language_info": {
      "name": "python"
    }
  },
  "cells": [
    {
      "cell_type": "markdown",
      "metadata": {
        "id": "view-in-github",
        "colab_type": "text"
      },
      "source": [
        "<a href=\"https://colab.research.google.com/github/Sompote/SPT_Bangkok_SAND/blob/main/calculation.ipynb\" target=\"_parent\"><img src=\"https://colab.research.google.com/assets/colab-badge.svg\" alt=\"Open In Colab\"/></a>"
      ]
    },
    {
      "cell_type": "markdown",
      "source": [
        "This is the code for calcualte the friction angle of Bangkok Sand"
      ],
      "metadata": {
        "id": "emk5CmFBIy7x"
      }
    },
    {
      "cell_type": "code",
      "source": [
        "!git clone https://github.com/Sompote/SPT_Bangkok_SAND #copy the model data"
      ],
      "metadata": {
        "colab": {
          "base_uri": "https://localhost:8080/"
        },
        "id": "Wxw-ripdKCgl",
        "outputId": "89780db9-3520-4972-ffd7-6bd3ac6aae5f"
      },
      "execution_count": 10,
      "outputs": [
        {
          "output_type": "stream",
          "name": "stdout",
          "text": [
            "Cloning into 'SPT_Bangkok_SAND'...\n",
            "remote: Enumerating objects: 5, done.\u001b[K\n",
            "remote: Counting objects: 100% (5/5), done.\u001b[K\n",
            "remote: Compressing objects: 100% (5/5), done.\u001b[K\n",
            "remote: Total 5 (delta 1), reused 0 (delta 0), pack-reused 0\u001b[K\n",
            "Unpacking objects: 100% (5/5), 47.12 KiB | 1.43 MiB/s, done.\n"
          ]
        }
      ]
    },
    {
      "cell_type": "code",
      "execution_count": 1,
      "metadata": {
        "colab": {
          "base_uri": "https://localhost:8080/"
        },
        "id": "pjiVGIR1HW9S",
        "outputId": "4deddcd2-a936-4bd5-818c-c0b92ac69d5b"
      },
      "outputs": [
        {
          "output_type": "stream",
          "name": "stdout",
          "text": [
            "1/1 [==============================] - 0s 193ms/step\n",
            "friction angle = 36.749664 degree\n"
          ]
        }
      ],
      "source": [
        "import pickle\n",
        "import numpy as np\n",
        "import keras\n",
        "def SPT_fee(stress=100, N=3):\n",
        "  model1 = keras.models.load_model('model.h5')\n",
        "  scaler_x = pickle.load(open('scaler.pkl', 'rb'))\n",
        "  scaler_y = pickle.load(open('scaler_y.pkl', 'rb'))\n",
        "  x = np.array([stress,N])\n",
        "  x=np.reshape(x,(1,2))\n",
        "  x_scale=scaler_x.transform(x)\n",
        "  y_scale=model1.predict(x_scale)\n",
        "  y_scale=np.reshape(y_scale,(1,1))\n",
        "  y=scaler_y.inverse_transform(y_scale) #state parameter\n",
        "  #calculate for friction angle\n",
        "  fee=34.821-27.512*y\n",
        "  return fee[0,0]\n"
      ]
    },
    {
      "cell_type": "markdown",
      "source": [
        "Input the parameter N (blows/ft) and stress (kPa)"
      ],
      "metadata": {
        "id": "vaDbSNcLJz94"
      }
    },
    {
      "cell_type": "code",
      "source": [
        "N =15\n",
        "stress=363 #kPa\n",
        "print('friction angle =',SPT_fee(stress=stress,N=N), 'degree')"
      ],
      "metadata": {
        "colab": {
          "base_uri": "https://localhost:8080/"
        },
        "id": "ZbxnHd_xHkuw",
        "outputId": "9b589b0b-9330-4bf5-cfdb-13df77996518"
      },
      "execution_count": 9,
      "outputs": [
        {
          "output_type": "stream",
          "name": "stdout",
          "text": [
            "1/1 [==============================] - 0s 67ms/step\n",
            "friction angle = 33.91104 degree\n"
          ]
        }
      ]
    }
  ]
}